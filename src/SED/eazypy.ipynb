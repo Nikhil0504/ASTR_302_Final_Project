{
 "cells": [
  {
   "cell_type": "code",
   "execution_count": 3,
   "metadata": {},
   "outputs": [
    {
     "data": {
      "text/plain": [
       "'/Users/nikhilgaruda/Documents/Astronomy_Research/ASTR_302_Final_Project/src/SED'"
      ]
     },
     "execution_count": 3,
     "metadata": {},
     "output_type": "execute_result"
    }
   ],
   "source": [
    "import os \n",
    "import numpy as np\n",
    "os.getcwd()"
   ]
  },
  {
   "cell_type": "code",
   "execution_count": 4,
   "metadata": {},
   "outputs": [],
   "source": [
    "import eazy"
   ]
  },
  {
   "cell_type": "code",
   "execution_count": 5,
   "metadata": {},
   "outputs": [],
   "source": [
    "params = {}\n",
    "params['CATALOG_FILE'] = '../../catalogs/master_catalog_f444w_astropy.cat'\n",
    "params['CATALOG_FORMAT'] = 'ascii.fixed_width_two_line'\n",
    "params['MAIN_OUTPUT_FILE'] = '../../catalogs/g165_444w_astropy.eazypy'\n",
    "\n",
    "params['Z_STEP'] = 0.01\n",
    "params['Z_MIN'] = 0.01\n",
    "params['Z_MAX'] = 7\n",
    "\n",
    "params['MAGNITUDES'] = 'n' ### TURN THIS to 'n' if your catalog is in Fn\n",
    "\n",
    "params['APPLY_PRIOR'] = 'n'\n",
    "\n",
    "# params['TEMPLATES_FILE'] = 'templates/Larson/newtemplates_LyaR.param'\n",
    "params['TEMPLATES_FILE'] = 'templates/fsps_full/tweak_fsps_QSF_12_v3.param'\n",
    "params['TEMPLATE_COMBOS'] = 'a'\n",
    "params['FIX_ZSPEC'] = False\n",
    "\n",
    "SAVE_FITS = True"
   ]
  },
  {
   "cell_type": "code",
   "execution_count": 8,
   "metadata": {},
   "outputs": [],
   "source": [
    "translate_file = 'g165_nikhil.translate'"
   ]
  },
  {
   "cell_type": "code",
   "execution_count": 9,
   "metadata": {},
   "outputs": [
    {
     "name": "stdout",
     "output_type": "stream",
     "text": [
      "Read default param file: /opt/homebrew/Caskroom/miniforge/base/envs/astroJWST/lib/python3.10/site-packages/eazy/data/zphot.param.default\n",
      "Read CATALOG_FILE: ../../catalogs/master_catalog_f444w_astropy.cat\n",
      "   >>> NOBJ = 1954\n",
      "F200W F200W_ERROR (366): jwst_nircam_f200w\n",
      "F090W F090W_ERROR (363): jwst_nircam_f090w\n",
      "F150W F150W_ERROR (365): jwst_nircam_f150w\n",
      "F277W F277W_ERROR (375): jwst_nircam_f277w\n",
      "F356W F356W_ERROR (376): jwst_nircam_f356w\n",
      "F444W F444W_ERROR (377): jwst_nircam_f444w\n",
      "Set sys_err = 0.01 (positive=True)\n",
      "Template grid: templates/fsps_full/tweak_fsps_QSF_12_v3.param (this may take some time)\n"
     ]
    },
    {
     "name": "stderr",
     "output_type": "stream",
     "text": [
      "WARNING: No z_spec column found in catalog.  Some functionality might not be available. [eazy.photoz]\n",
      "/opt/homebrew/Caskroom/miniforge/base/envs/astroJWST/lib/python3.10/site-packages/eazy/photoz.py:975: RuntimeWarning: overflow encountered in square\n",
      "  efnu = np.sqrt(self.efnu_orig**2 +\n",
      "/opt/homebrew/Caskroom/miniforge/base/envs/astroJWST/lib/python3.10/site-packages/eazy/photoz.py:976: RuntimeWarning: overflow encountered in square\n",
      "  (self.param['SYS_ERR']*np.maximum(self.fnu, 0.))**2)\n",
      "100%|██████████| 12/12 [00:03<00:00,  3.77it/s]\n"
     ]
    },
    {
     "name": "stdout",
     "output_type": "stream",
     "text": [
      "Template   0: tweak_fsps_QSF_12_v3_001.dat (NZ=1).\n",
      "Template   1: tweak_fsps_QSF_12_v3_002.dat (NZ=1).\n",
      "Template   2: tweak_fsps_QSF_12_v3_003.dat (NZ=1).\n",
      "Template   3: tweak_fsps_QSF_12_v3_004.dat (NZ=1).\n",
      "Template   4: tweak_fsps_QSF_12_v3_005.dat (NZ=1).\n",
      "Template   5: tweak_fsps_QSF_12_v3_006.dat (NZ=1).\n",
      "Template   6: tweak_fsps_QSF_12_v3_007.dat (NZ=1).\n",
      "Template   7: tweak_fsps_QSF_12_v3_008.dat (NZ=1).\n",
      "Template   8: tweak_fsps_QSF_12_v3_009.dat (NZ=1).\n",
      "Template   9: tweak_fsps_QSF_12_v3_010.dat (NZ=1).\n",
      "Template  10: tweak_fsps_QSF_12_v3_011.dat (NZ=1).\n",
      "Template  11: tweak_fsps_QSF_12_v3_012.dat (NZ=1).\n",
      "Process templates: 3.632 s\n"
     ]
    },
    {
     "name": "stderr",
     "output_type": "stream",
     "text": [
      "207it [00:00, 4412.43it/s]\n"
     ]
    }
   ],
   "source": [
    "### After all of that, you should now be able to run the PhotoZ object that does the eazypy photometric redshift!!\n",
    "\n",
    "ez = eazy.photoz.PhotoZ(param_file=None, translate_file=translate_file, zeropoint_file=None, \n",
    "                          params=params, load_prior=False, load_products=False, n_proc=8, random_seed=64)"
   ]
  },
  {
   "cell_type": "code",
   "execution_count": 10,
   "metadata": {},
   "outputs": [
    {
     "name": "stderr",
     "output_type": "stream",
     "text": [
      "WARNING: ZSPEC column None not found in catalog [eazy.photoz]\n",
      "100%|██████████| 207/207 [00:03<00:00, 54.25it/s]\n"
     ]
    },
    {
     "name": "stdout",
     "output_type": "stream",
     "text": [
      "Compute best fits\n",
      "fit_best: 0.2 s (n_proc=1,  NOBJ=1473)\n",
      "Fit 4.2 s (n_proc=8, NOBJ=1954)\n"
     ]
    }
   ],
   "source": [
    "# Full catalog\n",
    "sample = np.isfinite(ez.ZSPEC)\n",
    "\n",
    "ez.fit_catalog(ez.idx[sample], n_proc=8, fitter='nnls')"
   ]
  },
  {
   "cell_type": "code",
   "execution_count": 12,
   "metadata": {},
   "outputs": [
    {
     "name": "stdout",
     "output_type": "stream",
     "text": [
      "Get best fit coeffs & best redshifts\n",
      "fit_best: 0.3 s (n_proc=1,  NOBJ=1473)\n",
      "Get parameters (UBVJ=[153, 154, 155, 161], simple=False)\n"
     ]
    },
    {
     "name": "stderr",
     "output_type": "stream",
     "text": [
      "100%|██████████| 1473/1473 [00:02<00:00, 666.60it/s]\n",
      "WARNING: VerifyWarning: Keyword name 'TEMP_ERR_FILE' is greater than 8 characters or contains characters not allowed by the FITS standard; a HIERARCH card will be created. [astropy.io.fits.card]\n",
      "WARNING: VerifyWarning: Keyword name 'TEMP_ERR_A2' is greater than 8 characters or contains characters not allowed by the FITS standard; a HIERARCH card will be created. [astropy.io.fits.card]\n",
      "WARNING: VerifyWarning: Keyword name 'PRIOR_FILTER' is greater than 8 characters or contains characters not allowed by the FITS standard; a HIERARCH card will be created. [astropy.io.fits.card]\n",
      "WARNING: VerifyWarning: Keyword name 'PRIOR_ABZP' is greater than 8 characters or contains characters not allowed by the FITS standard; a HIERARCH card will be created. [astropy.io.fits.card]\n",
      "WARNING: VerifyWarning: Keyword name 'IGM_SCALE_TAU' is greater than 8 characters or contains characters not allowed by the FITS standard; a HIERARCH card will be created. [astropy.io.fits.card]\n",
      "WARNING: VerifyWarning: Keyword name 'APPLY_IGM' is greater than 8 characters or contains characters not allowed by the FITS standard; a HIERARCH card will be created. [astropy.io.fits.card]\n",
      "WARNING: VerifyWarning: Keyword name 'TEMPLATES_FILE' is greater than 8 characters or contains characters not allowed by the FITS standard; a HIERARCH card will be created. [astropy.io.fits.card]\n",
      "WARNING: VerifyWarning: Keyword name 'ZBEST_USER' is greater than 8 characters or contains characters not allowed by the FITS standard; a HIERARCH card will be created. [astropy.io.fits.card]\n",
      "WARNING: VerifyWarning: Keyword name 'ZBEST_AT_ZSPEC' is greater than 8 characters or contains characters not allowed by the FITS standard; a HIERARCH card will be created. [astropy.io.fits.card]\n",
      "WARNING: VerifyWarning: Keyword name 'ZML_WITH_PRIOR' is greater than 8 characters or contains characters not allowed by the FITS standard; a HIERARCH card will be created. [astropy.io.fits.card]\n",
      "WARNING: VerifyWarning: Keyword name 'ZML_WITH_BETA_PRIOR' is greater than 8 characters or contains characters not allowed by the FITS standard; a HIERARCH card will be created. [astropy.io.fits.card]\n"
     ]
    }
   ],
   "source": [
    "import warnings\n",
    "\n",
    "\n",
    "if SAVE_FITS:\n",
    "    warnings.simplefilter('ignore', category=RuntimeWarning)\n",
    "    zout, hdu = ez.standard_output(simple=False,\n",
    "                                   prior=True,\n",
    "                                   beta_prior=True,\n",
    "                                   absmag_filters=[],\n",
    "                                   extra_rf_filters=[],\n",
    "                                   save_fits=2,\n",
    "                                )"
   ]
  },
  {
   "cell_type": "code",
   "execution_count": 11,
   "metadata": {},
   "outputs": [
    {
     "data": {
      "text/plain": [
       "Text(0.5, 0, '$z_{best}$')"
      ]
     },
     "execution_count": 11,
     "metadata": {},
     "output_type": "execute_result"
    },
    {
     "data": {
      "image/png": "[encoded data removed]",
      "text/plain": [
       "<Figure size 640x480 with 1 Axes>"
      ]
     },
     "metadata": {},
     "output_type": "display_data"
    }
   ],
   "source": [
    "import matplotlib.pyplot as plt\n",
    "plt.hist(ez.zbest, bins=50)\n",
    "plt.xlabel(r'$z_{best}$')"
   ]
  },
  {
   "cell_type": "code",
   "execution_count": 24,
   "metadata": {},
   "outputs": [
    {
     "data": {
      "text/plain": [
       "4142"
      ]
     },
     "execution_count": 24,
     "metadata": {},
     "output_type": "execute_result"
    }
   ],
   "source": [
    "ez.OBJID[4141]"
   ]
  },
  {
   "cell_type": "code",
   "execution_count": null,
   "metadata": {},
   "outputs": [],
   "source": [
    "from matplotlib import pyplot as plt\n",
    "\n",
    "# ids = np.where((ez.zbest > 2.3) & (ez.zbest < 2.7))\n",
    "for id in [4141, 4186, 4328, 4360, 4303]:\n",
    "# for id in [15513, 15304, 14193, 12558, 15604, 7771]: # pypher 444 catalog ids\n",
    "# for id in ez.cat['id']:\n",
    "    ez.show_fit(id=id, show_fnu=1, logpz=True, zr=[0, 6], show_components=False, show=True, vertical=False)\n",
    "    plt.show()"
   ]
  },
  {
   "cell_type": "code",
   "execution_count": null,
   "metadata": {},
   "outputs": [],
   "source": []
  }
 ],
 "metadata": {
  "kernelspec": {
   "display_name": "eazy39",
   "language": "python",
   "name": "python3"
  },
  "language_info": {
   "codemirror_mode": {
    "name": "ipython",
    "version": 3
   },
   "file_extension": ".py",
   "mimetype": "text/x-python",
   "name": "python",
   "nbconvert_exporter": "python",
   "pygments_lexer": "ipython3",
   "version": "3.10.8"
  },
  "orig_nbformat": 4
 },
 "nbformat": 4,
 "nbformat_minor": 2
}
